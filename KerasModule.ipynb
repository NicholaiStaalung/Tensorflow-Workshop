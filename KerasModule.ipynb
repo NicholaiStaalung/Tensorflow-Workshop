{
 "cells": [
  {
   "cell_type": "markdown",
   "metadata": {},
   "source": [
    "# Introduction"
   ]
  },
  {
   "cell_type": "markdown",
   "metadata": {},
   "source": [
    "This workshop will introduce a utilization of the Keras open source module with a Tensorflow backend.\n",
    "Keras has become popular as an alternative to pure Tensorflow beacuse of its easy implementation, and similirity in implentation of other popular open source ML libraries. However, the downside to Keras is that it is significantly slower than pure Tensorflow. We will illustrate an approach to a regression problem using a Deep Neural Network, and describing each step along the way."
   ]
  },
  {
   "cell_type": "markdown",
   "metadata": {},
   "source": [
    "## The Data "
   ]
  },
  {
   "cell_type": "markdown",
   "metadata": {},
   "source": [
    "The dataset for this workshop is a webscraped dataset from a danish online auction house containing product information. The data has been preprocessed for you convenience, so focus can be on the Machine Learning. The features in question are the sales price (price), the presale valuation (valuation), a procut title (titles) and 106 binary features of the product category. We will try to predict the sales price of the products based on the valuation and the product category."
   ]
  },
  {
   "cell_type": "markdown",
   "metadata": {},
   "source": [
    "### Import necessary modules"
   ]
  },
  {
   "cell_type": "code",
   "execution_count": 1,
   "metadata": {},
   "outputs": [
    {
     "name": "stderr",
     "output_type": "stream",
     "text": [
      "Using TensorFlow backend.\n"
     ]
    }
   ],
   "source": [
    "import pandas as pd\n",
    "import numpy as np\n",
    "from sklearn.model_selection import train_test_split\n",
    "import matplotlib.pyplot as plt\n",
    "import seaborn as sns\n",
    "from keras.models import Sequential\n",
    "from keras.layers import Dense, Dropout\n",
    "from keras.callbacks import EarlyStopping\n",
    "from keras import optimizers\n",
    "from keras import regularizers\n",
    "from keras.utils import plot_model\n",
    "from IPython.display import Image\n",
    "from sklearn.metrics import mean_squared_error, r2_score\n",
    "sns.set(style=\"whitegrid\")\n",
    "import warnings\n",
    "warnings.filterwarnings('ignore')"
   ]
  },
  {
   "cell_type": "markdown",
   "metadata": {},
   "source": [
    "### Setting random seed"
   ]
  },
  {
   "cell_type": "code",
   "execution_count": 2,
   "metadata": {},
   "outputs": [],
   "source": [
    "RANDOM_SEED = 123 "
   ]
  },
  {
   "cell_type": "markdown",
   "metadata": {},
   "source": [
    "Random seed is important for reproducability when running on a CPU - However it's indifferent when running on the GPU as a GPU sets a number of random seeds creating a challenge for reproduction."
   ]
  },
  {
   "cell_type": "markdown",
   "metadata": {},
   "source": [
    "### Import the data"
   ]
  },
  {
   "cell_type": "code",
   "execution_count": 3,
   "metadata": {},
   "outputs": [],
   "source": [
    "data = pd.read_csv('input/data.csv')"
   ]
  },
  {
   "cell_type": "code",
   "execution_count": 4,
   "metadata": {},
   "outputs": [
    {
     "name": "stdout",
     "output_type": "stream",
     "text": [
      "<class 'pandas.core.frame.DataFrame'>\n",
      "RangeIndex: 22552 entries, 0 to 22551\n",
      "Columns: 108 entries, aegte-taepper to wellness\n",
      "dtypes: float64(106), int64(1), object(1)\n",
      "memory usage: 18.6+ MB\n"
     ]
    }
   ],
   "source": [
    "data.info()"
   ]
  },
  {
   "cell_type": "code",
   "execution_count": 5,
   "metadata": {},
   "outputs": [
    {
     "data": {
      "text/html": [
       "<div>\n",
       "<style scoped>\n",
       "    .dataframe tbody tr th:only-of-type {\n",
       "        vertical-align: middle;\n",
       "    }\n",
       "\n",
       "    .dataframe tbody tr th {\n",
       "        vertical-align: top;\n",
       "    }\n",
       "\n",
       "    .dataframe thead th {\n",
       "        text-align: right;\n",
       "    }\n",
       "</style>\n",
       "<table border=\"1\" class=\"dataframe\">\n",
       "  <thead>\n",
       "    <tr style=\"text-align: right;\">\n",
       "      <th></th>\n",
       "      <th>aegte-taepper</th>\n",
       "      <th>aeldre-billedkunst</th>\n",
       "      <th>aeldre-og-antikke-taepper</th>\n",
       "      <th>armbaand</th>\n",
       "      <th>bad</th>\n",
       "      <th>biler-baade</th>\n",
       "      <th>blankvaaben</th>\n",
       "      <th>boeger-kort-blade</th>\n",
       "      <th>boernemoebler</th>\n",
       "      <th>boernetoej</th>\n",
       "      <th>...</th>\n",
       "      <th>tv-fladskaerme-projektorer</th>\n",
       "      <th>udendoerslamper</th>\n",
       "      <th>vaeglamper</th>\n",
       "      <th>vaegtaepper</th>\n",
       "      <th>vaegure</th>\n",
       "      <th>vaerktoej-byggematerialer</th>\n",
       "      <th>valuation</th>\n",
       "      <th>vaser-skaale-fade</th>\n",
       "      <th>vin</th>\n",
       "      <th>wellness</th>\n",
       "    </tr>\n",
       "  </thead>\n",
       "  <tbody>\n",
       "    <tr>\n",
       "      <th>0</th>\n",
       "      <td>0.0</td>\n",
       "      <td>0.0</td>\n",
       "      <td>0.0</td>\n",
       "      <td>0.0</td>\n",
       "      <td>0.0</td>\n",
       "      <td>0.0</td>\n",
       "      <td>0.0</td>\n",
       "      <td>0.0</td>\n",
       "      <td>0.0</td>\n",
       "      <td>0.0</td>\n",
       "      <td>...</td>\n",
       "      <td>0.0</td>\n",
       "      <td>0.0</td>\n",
       "      <td>0.0</td>\n",
       "      <td>0.0</td>\n",
       "      <td>0.0</td>\n",
       "      <td>0.0</td>\n",
       "      <td>1500</td>\n",
       "      <td>0.0</td>\n",
       "      <td>0.0</td>\n",
       "      <td>0.0</td>\n",
       "    </tr>\n",
       "    <tr>\n",
       "      <th>1</th>\n",
       "      <td>0.0</td>\n",
       "      <td>0.0</td>\n",
       "      <td>0.0</td>\n",
       "      <td>0.0</td>\n",
       "      <td>0.0</td>\n",
       "      <td>0.0</td>\n",
       "      <td>0.0</td>\n",
       "      <td>0.0</td>\n",
       "      <td>0.0</td>\n",
       "      <td>0.0</td>\n",
       "      <td>...</td>\n",
       "      <td>0.0</td>\n",
       "      <td>0.0</td>\n",
       "      <td>0.0</td>\n",
       "      <td>0.0</td>\n",
       "      <td>0.0</td>\n",
       "      <td>0.0</td>\n",
       "      <td>1000</td>\n",
       "      <td>0.0</td>\n",
       "      <td>0.0</td>\n",
       "      <td>0.0</td>\n",
       "    </tr>\n",
       "    <tr>\n",
       "      <th>2</th>\n",
       "      <td>0.0</td>\n",
       "      <td>0.0</td>\n",
       "      <td>0.0</td>\n",
       "      <td>0.0</td>\n",
       "      <td>0.0</td>\n",
       "      <td>0.0</td>\n",
       "      <td>0.0</td>\n",
       "      <td>0.0</td>\n",
       "      <td>0.0</td>\n",
       "      <td>0.0</td>\n",
       "      <td>...</td>\n",
       "      <td>0.0</td>\n",
       "      <td>0.0</td>\n",
       "      <td>0.0</td>\n",
       "      <td>0.0</td>\n",
       "      <td>0.0</td>\n",
       "      <td>0.0</td>\n",
       "      <td>1000</td>\n",
       "      <td>0.0</td>\n",
       "      <td>0.0</td>\n",
       "      <td>0.0</td>\n",
       "    </tr>\n",
       "    <tr>\n",
       "      <th>3</th>\n",
       "      <td>0.0</td>\n",
       "      <td>0.0</td>\n",
       "      <td>0.0</td>\n",
       "      <td>0.0</td>\n",
       "      <td>0.0</td>\n",
       "      <td>0.0</td>\n",
       "      <td>0.0</td>\n",
       "      <td>0.0</td>\n",
       "      <td>0.0</td>\n",
       "      <td>0.0</td>\n",
       "      <td>...</td>\n",
       "      <td>0.0</td>\n",
       "      <td>0.0</td>\n",
       "      <td>0.0</td>\n",
       "      <td>0.0</td>\n",
       "      <td>0.0</td>\n",
       "      <td>0.0</td>\n",
       "      <td>1500</td>\n",
       "      <td>0.0</td>\n",
       "      <td>0.0</td>\n",
       "      <td>0.0</td>\n",
       "    </tr>\n",
       "    <tr>\n",
       "      <th>4</th>\n",
       "      <td>0.0</td>\n",
       "      <td>0.0</td>\n",
       "      <td>0.0</td>\n",
       "      <td>0.0</td>\n",
       "      <td>0.0</td>\n",
       "      <td>0.0</td>\n",
       "      <td>0.0</td>\n",
       "      <td>0.0</td>\n",
       "      <td>0.0</td>\n",
       "      <td>0.0</td>\n",
       "      <td>...</td>\n",
       "      <td>0.0</td>\n",
       "      <td>0.0</td>\n",
       "      <td>0.0</td>\n",
       "      <td>0.0</td>\n",
       "      <td>0.0</td>\n",
       "      <td>0.0</td>\n",
       "      <td>1000</td>\n",
       "      <td>0.0</td>\n",
       "      <td>0.0</td>\n",
       "      <td>0.0</td>\n",
       "    </tr>\n",
       "  </tbody>\n",
       "</table>\n",
       "<p>5 rows × 108 columns</p>\n",
       "</div>"
      ],
      "text/plain": [
       "   aegte-taepper  aeldre-billedkunst  aeldre-og-antikke-taepper  armbaand  \\\n",
       "0            0.0                 0.0                        0.0       0.0   \n",
       "1            0.0                 0.0                        0.0       0.0   \n",
       "2            0.0                 0.0                        0.0       0.0   \n",
       "3            0.0                 0.0                        0.0       0.0   \n",
       "4            0.0                 0.0                        0.0       0.0   \n",
       "\n",
       "   bad  biler-baade  blankvaaben  boeger-kort-blade  boernemoebler  \\\n",
       "0  0.0          0.0          0.0                0.0            0.0   \n",
       "1  0.0          0.0          0.0                0.0            0.0   \n",
       "2  0.0          0.0          0.0                0.0            0.0   \n",
       "3  0.0          0.0          0.0                0.0            0.0   \n",
       "4  0.0          0.0          0.0                0.0            0.0   \n",
       "\n",
       "   boernetoej    ...     tv-fladskaerme-projektorer  udendoerslamper  \\\n",
       "0         0.0    ...                            0.0              0.0   \n",
       "1         0.0    ...                            0.0              0.0   \n",
       "2         0.0    ...                            0.0              0.0   \n",
       "3         0.0    ...                            0.0              0.0   \n",
       "4         0.0    ...                            0.0              0.0   \n",
       "\n",
       "   vaeglamper  vaegtaepper  vaegure  vaerktoej-byggematerialer  valuation  \\\n",
       "0         0.0          0.0      0.0                        0.0       1500   \n",
       "1         0.0          0.0      0.0                        0.0       1000   \n",
       "2         0.0          0.0      0.0                        0.0       1000   \n",
       "3         0.0          0.0      0.0                        0.0       1500   \n",
       "4         0.0          0.0      0.0                        0.0       1000   \n",
       "\n",
       "   vaser-skaale-fade  vin  wellness  \n",
       "0                0.0  0.0       0.0  \n",
       "1                0.0  0.0       0.0  \n",
       "2                0.0  0.0       0.0  \n",
       "3                0.0  0.0       0.0  \n",
       "4                0.0  0.0       0.0  \n",
       "\n",
       "[5 rows x 108 columns]"
      ]
     },
     "execution_count": 5,
     "metadata": {},
     "output_type": "execute_result"
    }
   ],
   "source": [
    "data.head()"
   ]
  },
  {
   "cell_type": "markdown",
   "metadata": {},
   "source": [
    "As you can see, the data consists of many features having zeros in it. These are binary features. Check for yourself"
   ]
  },
  {
   "cell_type": "markdown",
   "metadata": {},
   "source": [
    "### Check some of the product titles, prices and valuation"
   ]
  },
  {
   "cell_type": "code",
   "execution_count": 6,
   "metadata": {},
   "outputs": [
    {
     "data": {
      "text/html": [
       "<div>\n",
       "<style scoped>\n",
       "    .dataframe tbody tr th:only-of-type {\n",
       "        vertical-align: middle;\n",
       "    }\n",
       "\n",
       "    .dataframe tbody tr th {\n",
       "        vertical-align: top;\n",
       "    }\n",
       "\n",
       "    .dataframe thead th {\n",
       "        text-align: right;\n",
       "    }\n",
       "</style>\n",
       "<table border=\"1\" class=\"dataframe\">\n",
       "  <thead>\n",
       "    <tr style=\"text-align: right;\">\n",
       "      <th></th>\n",
       "      <th>titles</th>\n",
       "      <th>price</th>\n",
       "      <th>valuation</th>\n",
       "    </tr>\n",
       "  </thead>\n",
       "  <tbody>\n",
       "    <tr>\n",
       "      <th>0</th>\n",
       "      <td>Bang &amp; Olufsen. Højtalere model 6706, Beomaste...</td>\n",
       "      <td>800.0</td>\n",
       "      <td>1500</td>\n",
       "    </tr>\n",
       "    <tr>\n",
       "      <th>1</th>\n",
       "      <td>Bang &amp; Olufsen, anlæg (4)</td>\n",
       "      <td>650.0</td>\n",
       "      <td>1000</td>\n",
       "    </tr>\n",
       "    <tr>\n",
       "      <th>2</th>\n",
       "      <td>B&amp;O.; Par Red Line højttalere, Master Conrol P...</td>\n",
       "      <td>1000.0</td>\n",
       "      <td>1000</td>\n",
       "    </tr>\n",
       "    <tr>\n",
       "      <th>3</th>\n",
       "      <td>Samling Nikon fotoudstyr, 2 kameraer samt lins...</td>\n",
       "      <td>800.0</td>\n",
       "      <td>1500</td>\n",
       "    </tr>\n",
       "    <tr>\n",
       "      <th>4</th>\n",
       "      <td>Seks smalfilmskameraer (6)</td>\n",
       "      <td>1700.0</td>\n",
       "      <td>1000</td>\n",
       "    </tr>\n",
       "  </tbody>\n",
       "</table>\n",
       "</div>"
      ],
      "text/plain": [
       "                                              titles   price  valuation\n",
       "0  Bang & Olufsen. Højtalere model 6706, Beomaste...   800.0       1500\n",
       "1                          Bang & Olufsen, anlæg (4)   650.0       1000\n",
       "2  B&O.; Par Red Line højttalere, Master Conrol P...  1000.0       1000\n",
       "3  Samling Nikon fotoudstyr, 2 kameraer samt lins...   800.0       1500\n",
       "4                         Seks smalfilmskameraer (6)  1700.0       1000"
      ]
     },
     "execution_count": 6,
     "metadata": {},
     "output_type": "execute_result"
    }
   ],
   "source": [
    "data[['titles', 'price', 'valuation']].head()"
   ]
  },
  {
   "cell_type": "markdown",
   "metadata": {},
   "source": [
    "### Delete the titles"
   ]
  },
  {
   "cell_type": "code",
   "execution_count": 7,
   "metadata": {},
   "outputs": [],
   "source": [
    "del data['titles']"
   ]
  },
  {
   "cell_type": "markdown",
   "metadata": {},
   "source": [
    "We dont need the titles of the product in this application, as we s are simply trying to predict prices based on valuation and category"
   ]
  },
  {
   "cell_type": "markdown",
   "metadata": {},
   "source": [
    "### Adding bias term"
   ]
  },
  {
   "cell_type": "code",
   "execution_count": 8,
   "metadata": {},
   "outputs": [],
   "source": [
    "data['bias'] = 1"
   ]
  },
  {
   "cell_type": "markdown",
   "metadata": {},
   "source": [
    "### Get a feel for the distribution of the data"
   ]
  },
  {
   "cell_type": "code",
   "execution_count": 9,
   "metadata": {},
   "outputs": [
    {
     "data": {
      "text/html": [
       "<div>\n",
       "<style scoped>\n",
       "    .dataframe tbody tr th:only-of-type {\n",
       "        vertical-align: middle;\n",
       "    }\n",
       "\n",
       "    .dataframe tbody tr th {\n",
       "        vertical-align: top;\n",
       "    }\n",
       "\n",
       "    .dataframe thead th {\n",
       "        text-align: right;\n",
       "    }\n",
       "</style>\n",
       "<table border=\"1\" class=\"dataframe\">\n",
       "  <thead>\n",
       "    <tr style=\"text-align: right;\">\n",
       "      <th></th>\n",
       "      <th>valuation</th>\n",
       "      <th>price</th>\n",
       "    </tr>\n",
       "  </thead>\n",
       "  <tbody>\n",
       "    <tr>\n",
       "      <th>count</th>\n",
       "      <td>22552.000000</td>\n",
       "      <td>22552.000000</td>\n",
       "    </tr>\n",
       "    <tr>\n",
       "      <th>mean</th>\n",
       "      <td>4344.098084</td>\n",
       "      <td>2574.604248</td>\n",
       "    </tr>\n",
       "    <tr>\n",
       "      <th>std</th>\n",
       "      <td>9204.816164</td>\n",
       "      <td>5174.824427</td>\n",
       "    </tr>\n",
       "    <tr>\n",
       "      <th>min</th>\n",
       "      <td>1000.000000</td>\n",
       "      <td>0.000000</td>\n",
       "    </tr>\n",
       "    <tr>\n",
       "      <th>25%</th>\n",
       "      <td>1000.000000</td>\n",
       "      <td>500.000000</td>\n",
       "    </tr>\n",
       "    <tr>\n",
       "      <th>50%</th>\n",
       "      <td>1800.000000</td>\n",
       "      <td>1100.000000</td>\n",
       "    </tr>\n",
       "    <tr>\n",
       "      <th>75%</th>\n",
       "      <td>4200.000000</td>\n",
       "      <td>2800.000000</td>\n",
       "    </tr>\n",
       "    <tr>\n",
       "      <th>max</th>\n",
       "      <td>500000.000000</td>\n",
       "      <td>155000.000000</td>\n",
       "    </tr>\n",
       "  </tbody>\n",
       "</table>\n",
       "</div>"
      ],
      "text/plain": [
       "           valuation          price\n",
       "count   22552.000000   22552.000000\n",
       "mean     4344.098084    2574.604248\n",
       "std      9204.816164    5174.824427\n",
       "min      1000.000000       0.000000\n",
       "25%      1000.000000     500.000000\n",
       "50%      1800.000000    1100.000000\n",
       "75%      4200.000000    2800.000000\n",
       "max    500000.000000  155000.000000"
      ]
     },
     "execution_count": 9,
     "metadata": {},
     "output_type": "execute_result"
    }
   ],
   "source": [
    "data[['valuation', 'price']].describe()"
   ]
  },
  {
   "cell_type": "code",
   "execution_count": 10,
   "metadata": {},
   "outputs": [
    {
     "data": {
      "image/png": "[encoded data removed]",
      "text/plain": [
       "<Figure size 432x288 with 1 Axes>"
      ]
     },
     "metadata": {
      "needs_background": "light"
     },
     "output_type": "display_data"
    }
   ],
   "source": [
    "sns.violinplot(x=data[\"price\"])\n",
    "plt.show()"
   ]
  },
  {
   "cell_type": "code",
   "execution_count": 11,
   "metadata": {},
   "outputs": [
    {
     "data": {
      "image/png": "[encoded data removed]",
      "text/plain": [
       "<Figure size 432x288 with 1 Axes>"
      ]
     },
     "metadata": {
      "needs_background": "light"
     },
     "output_type": "display_data"
    }
   ],
   "source": [
    "sns.violinplot(x=data[\"valuation\"])\n",
    "plt.show()"
   ]
  },
  {
   "cell_type": "markdown",
   "metadata": {},
   "source": [
    "Most of the products are realtively low priced products, and then there are som outliers. Maybe we could restrain the input to products only in a smaller range of prices. That also means we would only build an application for relatively low priced products"
   ]
  },
  {
   "cell_type": "markdown",
   "metadata": {},
   "source": [
    "#### Creating a scatter plot"
   ]
  },
  {
   "cell_type": "code",
   "execution_count": 12,
   "metadata": {},
   "outputs": [
    {
     "data": {
      "image/png": "[encoded data removed]",
      "text/plain": [
       "<Figure size 432x288 with 1 Axes>"
      ]
     },
     "metadata": {
      "needs_background": "light"
     },
     "output_type": "display_data"
    }
   ],
   "source": [
    "plt.scatter(data['valuation'], data['price'])\n",
    "plt.xlabel('Valuation')\n",
    "plt.ylabel('Price')\n",
    "plt.show()"
   ]
  },
  {
   "cell_type": "markdown",
   "metadata": {},
   "source": [
    "## Restraining input based on valuation"
   ]
  },
  {
   "cell_type": "code",
   "execution_count": 13,
   "metadata": {},
   "outputs": [],
   "source": [
    "data_ir = data[data['valuation'] <= 25000]"
   ]
  },
  {
   "cell_type": "markdown",
   "metadata": {},
   "source": [
    "We are removing all products that have a larger valuation than the defined amount. You are welcome to play around with it"
   ]
  },
  {
   "cell_type": "markdown",
   "metadata": {},
   "source": [
    "## Restraining output"
   ]
  },
  {
   "cell_type": "code",
   "execution_count": 14,
   "metadata": {},
   "outputs": [],
   "source": [
    "data_ir = data_ir[data_ir['price'] > 0]"
   ]
  },
  {
   "cell_type": "markdown",
   "metadata": {},
   "source": [
    "By restraining the output we remove products that are not market fit - Meaning they have no value"
   ]
  },
  {
   "cell_type": "code",
   "execution_count": 15,
   "metadata": {},
   "outputs": [
    {
     "data": {
      "image/png": "[encoded data removed]",
      "text/plain": [
       "<Figure size 432x288 with 1 Axes>"
      ]
     },
     "metadata": {
      "needs_background": "light"
     },
     "output_type": "display_data"
    }
   ],
   "source": [
    "plt.scatter(data_ir['valuation'], data_ir['price'])\n",
    "plt.xlabel('Valuation')\n",
    "plt.ylabel('Price')\n",
    "plt.show()"
   ]
  },
  {
   "cell_type": "markdown",
   "metadata": {},
   "source": [
    "### Check the data again to see the impact of restraining the input"
   ]
  },
  {
   "cell_type": "code",
   "execution_count": 16,
   "metadata": {},
   "outputs": [
    {
     "name": "stdout",
     "output_type": "stream",
     "text": [
      "<class 'pandas.core.frame.DataFrame'>\n",
      "Int64Index: 20838 entries, 0 to 22551\n",
      "Columns: 108 entries, aegte-taepper to bias\n",
      "dtypes: float64(106), int64(2)\n",
      "memory usage: 17.3 MB\n"
     ]
    }
   ],
   "source": [
    "data_ir.info()"
   ]
  },
  {
   "cell_type": "code",
   "execution_count": 17,
   "metadata": {},
   "outputs": [
    {
     "data": {
      "text/html": [
       "<div>\n",
       "<style scoped>\n",
       "    .dataframe tbody tr th:only-of-type {\n",
       "        vertical-align: middle;\n",
       "    }\n",
       "\n",
       "    .dataframe tbody tr th {\n",
       "        vertical-align: top;\n",
       "    }\n",
       "\n",
       "    .dataframe thead th {\n",
       "        text-align: right;\n",
       "    }\n",
       "</style>\n",
       "<table border=\"1\" class=\"dataframe\">\n",
       "  <thead>\n",
       "    <tr style=\"text-align: right;\">\n",
       "      <th></th>\n",
       "      <th>valuation</th>\n",
       "      <th>price</th>\n",
       "    </tr>\n",
       "  </thead>\n",
       "  <tbody>\n",
       "    <tr>\n",
       "      <th>count</th>\n",
       "      <td>20838.000000</td>\n",
       "      <td>20838.000000</td>\n",
       "    </tr>\n",
       "    <tr>\n",
       "      <th>mean</th>\n",
       "      <td>3619.603609</td>\n",
       "      <td>2272.832086</td>\n",
       "    </tr>\n",
       "    <tr>\n",
       "      <th>std</th>\n",
       "      <td>4287.719796</td>\n",
       "      <td>3017.217834</td>\n",
       "    </tr>\n",
       "    <tr>\n",
       "      <th>min</th>\n",
       "      <td>1000.000000</td>\n",
       "      <td>300.000000</td>\n",
       "    </tr>\n",
       "    <tr>\n",
       "      <th>25%</th>\n",
       "      <td>1000.000000</td>\n",
       "      <td>550.000000</td>\n",
       "    </tr>\n",
       "    <tr>\n",
       "      <th>50%</th>\n",
       "      <td>1800.000000</td>\n",
       "      <td>1200.000000</td>\n",
       "    </tr>\n",
       "    <tr>\n",
       "      <th>75%</th>\n",
       "      <td>4000.000000</td>\n",
       "      <td>2800.000000</td>\n",
       "    </tr>\n",
       "    <tr>\n",
       "      <th>max</th>\n",
       "      <td>25000.000000</td>\n",
       "      <td>52000.000000</td>\n",
       "    </tr>\n",
       "  </tbody>\n",
       "</table>\n",
       "</div>"
      ],
      "text/plain": [
       "          valuation         price\n",
       "count  20838.000000  20838.000000\n",
       "mean    3619.603609   2272.832086\n",
       "std     4287.719796   3017.217834\n",
       "min     1000.000000    300.000000\n",
       "25%     1000.000000    550.000000\n",
       "50%     1800.000000   1200.000000\n",
       "75%     4000.000000   2800.000000\n",
       "max    25000.000000  52000.000000"
      ]
     },
     "execution_count": 17,
     "metadata": {},
     "output_type": "execute_result"
    }
   ],
   "source": [
    "data_ir[['valuation', 'price']].describe()"
   ]
  },
  {
   "cell_type": "code",
   "execution_count": 18,
   "metadata": {},
   "outputs": [
    {
     "data": {
      "image/png": "[encoded data removed]",
      "text/plain": [
       "<Figure size 432x288 with 1 Axes>"
      ]
     },
     "metadata": {
      "needs_background": "light"
     },
     "output_type": "display_data"
    }
   ],
   "source": [
    "sns.violinplot(x=data_ir[\"price\"])\n",
    "plt.show()"
   ]
  },
  {
   "cell_type": "code",
   "execution_count": 19,
   "metadata": {},
   "outputs": [
    {
     "data": {
      "image/png": "[encoded data removed]",
      "text/plain": [
       "<Figure size 432x288 with 1 Axes>"
      ]
     },
     "metadata": {
      "needs_background": "light"
     },
     "output_type": "display_data"
    }
   ],
   "source": [
    "sns.violinplot(x=data_ir[\"valuation\"])\n",
    "plt.show()"
   ]
  },
  {
   "cell_type": "markdown",
   "metadata": {},
   "source": [
    "What does the pictures tell you? If you have restrained input like me on 25.000 DKK for valuations, then there are some discrepenacy between the valuation and the sales price. It tells us that some products are valued a great deal lower than the actual sales price. So is the valuation really a good predictor for sales prices at all?"
   ]
  },
  {
   "cell_type": "markdown",
   "metadata": {},
   "source": [
    "### Checking the correlation coefficient between price and valuation"
   ]
  },
  {
   "cell_type": "code",
   "execution_count": 20,
   "metadata": {},
   "outputs": [
    {
     "data": {
      "text/plain": [
       "0.784041979031462"
      ]
     },
     "execution_count": 20,
     "metadata": {},
     "output_type": "execute_result"
    }
   ],
   "source": [
    "np.corrcoef(data_ir[['price', 'valuation']], rowvar=False)[0,1]"
   ]
  },
  {
   "cell_type": "markdown",
   "metadata": {},
   "source": [
    "Pretty high correlation of 78 pct. This serves as evidence that the valuation turns out to be a great predictor. Keep in mind that this will probably change as you change the input restrictions"
   ]
  },
  {
   "cell_type": "markdown",
   "metadata": {},
   "source": [
    "### How about the distribution of the product categories?"
   ]
  },
  {
   "cell_type": "markdown",
   "metadata": {},
   "source": [
    "In Neural nets you tend to like that each instance is represented more than a few times in order to substantiate a pattern. Therefore we should delete product categories if they are represented less than 10 times just to be sure. Also this is a hyperparameter as well. You can play with it"
   ]
  },
  {
   "cell_type": "code",
   "execution_count": 21,
   "metadata": {},
   "outputs": [
    {
     "name": "stdout",
     "output_type": "stream",
     "text": [
      "Removing column biler-baade that only occurs 5 times\n",
      "Removing column boernetoej that only occurs 1 times\n",
      "Removing column boligtekstiler that only occurs 4 times\n",
      "Removing column camping-friluftsliv that only occurs 2 times\n",
      "Removing column fiskeri that only occurs 6 times\n",
      "Removing column rideudstyr that only occurs 4 times\n",
      "Removing column ryataepper that only occurs 2 times\n",
      "Removing column telefoner-mobiler that only occurs 5 times\n",
      "Removing column vaegtaepper that only occurs 2 times\n",
      "Removing column wellness that only occurs 4 times\n"
     ]
    }
   ],
   "source": [
    "for col in data_ir.columns:\n",
    "    if data_ir[col].sum() < 10:\n",
    "        print('Removing column %s that only occurs %i times' %(col, data_ir[col].sum()))\n",
    "        data_ir = data_ir[data_ir[col] != 1]\n",
    "        data_ir = data_ir.drop(col, axis=1)"
   ]
  },
  {
   "cell_type": "code",
   "execution_count": 22,
   "metadata": {},
   "outputs": [
    {
     "name": "stdout",
     "output_type": "stream",
     "text": [
      "<class 'pandas.core.frame.DataFrame'>\n",
      "Int64Index: 20803 entries, 0 to 22551\n",
      "Data columns (total 98 columns):\n",
      "aegte-taepper                        20803 non-null float64\n",
      "aeldre-billedkunst                   20803 non-null float64\n",
      "aeldre-og-antikke-taepper            20803 non-null float64\n",
      "armbaand                             20803 non-null float64\n",
      "bad                                  20803 non-null float64\n",
      "blankvaaben                          20803 non-null float64\n",
      "boeger-kort-blade                    20803 non-null float64\n",
      "boernemoebler                        20803 non-null float64\n",
      "bolig                                20803 non-null float64\n",
      "bordlamper                           20803 non-null float64\n",
      "bordure                              20803 non-null float64\n",
      "braendeovne-pejse                    20803 non-null float64\n",
      "brocher                              20803 non-null float64\n",
      "bronze-kobber-messing-tin            20803 non-null float64\n",
      "computere-printere-tilbehoer         20803 non-null float64\n",
      "cykler                               20803 non-null float64\n",
      "dametoej                             20803 non-null float64\n",
      "dameure                              20803 non-null float64\n",
      "diamanter-aedelsten                  20803 non-null float64\n",
      "drikkeglas                           20803 non-null float64\n",
      "etnografica                          20803 non-null float64\n",
      "ferielejligheder-sommerhuse          20803 non-null float64\n",
      "figurer                              20803 non-null float64\n",
      "frimaerker                           20803 non-null float64\n",
      "grafik-og-fotografi                  20803 non-null float64\n",
      "gulvlamper                           20803 non-null float64\n",
      "halskaeder-vedhaeng                  20803 non-null float64\n",
      "have                                 20803 non-null float64\n",
      "havemoebler                          20803 non-null float64\n",
      "herretoej                            20803 non-null float64\n",
      "herreure                             20803 non-null float64\n",
      "hifi-stereoanlaeg                    20803 non-null float64\n",
      "hoejttalere-surround-sound           20803 non-null float64\n",
      "hotel-slot-og-kroophold              20803 non-null float64\n",
      "jagttrofaeer                         20803 non-null float64\n",
      "jagtudstyr                           20803 non-null float64\n",
      "kameraer-fotoudstyr                  20803 non-null float64\n",
      "kelim                                20803 non-null float64\n",
      "koekken                              20803 non-null float64\n",
      "kontormoebler                        20803 non-null float64\n",
      "laenestole                           20803 non-null float64\n",
      "legetoej                             20803 non-null float64\n",
      "loftslamper                          20803 non-null float64\n",
      "lommeure                             20803 non-null float64\n",
      "maritime-effekter                    20803 non-null float64\n",
      "markiser-solpaneler                  20803 non-null float64\n",
      "militaria-og-samlervaaben            20803 non-null float64\n",
      "moderne-billedkunst                  20803 non-null float64\n",
      "moderne-taepper                      20803 non-null float64\n",
      "moenter-sedler-og-barrer             20803 non-null float64\n",
      "musik-musikinstrumenter              20803 non-null float64\n",
      "oereringe                            20803 non-null float64\n",
      "oevrig-billedkunst-og-skulpturer     20803 non-null float64\n",
      "oevrig-elektronik                    20803 non-null float64\n",
      "oevrige-glas-porcelaen-og-keramik    20803 non-null float64\n",
      "oevrige-moebler                      20803 non-null float64\n",
      "oevrige-smykker                      20803 non-null float64\n",
      "oevrigt-soelvtoej                    20803 non-null float64\n",
      "oldsager                             20803 non-null float64\n",
      "oplevelser-events                    20803 non-null float64\n",
      "orientalsk                           20803 non-null float64\n",
      "partivarer                           20803 non-null float64\n",
      "pelse-skindjakker                    20803 non-null float64\n",
      "price                                20803 non-null float64\n",
      "rav                                  20803 non-null float64\n",
      "reoler                               20803 non-null float64\n",
      "ringe                                20803 non-null float64\n",
      "samleobjekter                        20803 non-null float64\n",
      "scootere-motorcykler                 20803 non-null float64\n",
      "senge-madrasser                      20803 non-null float64\n",
      "skabe-kommoder                       20803 non-null float64\n",
      "skind-og-laeder                      20803 non-null float64\n",
      "sko-stoevler                         20803 non-null float64\n",
      "skulpturer                           20803 non-null float64\n",
      "skydevaaben                          20803 non-null float64\n",
      "smykkesaet                           20803 non-null float64\n",
      "soelvbestik                          20803 non-null float64\n",
      "soelvlysestager                      20803 non-null float64\n",
      "sofaborde-smaaborde                  20803 non-null float64\n",
      "sofaer-sofagrupper                   20803 non-null float64\n",
      "spejle                               20803 non-null float64\n",
      "spiritus                             20803 non-null float64\n",
      "spiseborde-spisestuemoebler          20803 non-null float64\n",
      "spisestel-kaffestel                  20803 non-null float64\n",
      "sportsudstyr-bordspil                20803 non-null float64\n",
      "standure                             20803 non-null float64\n",
      "stole                                20803 non-null float64\n",
      "tasker-accessories                   20803 non-null float64\n",
      "tegninger                            20803 non-null float64\n",
      "tv-fladskaerme-projektorer           20803 non-null float64\n",
      "udendoerslamper                      20803 non-null float64\n",
      "vaeglamper                           20803 non-null float64\n",
      "vaegure                              20803 non-null float64\n",
      "vaerktoej-byggematerialer            20803 non-null float64\n",
      "valuation                            20803 non-null int64\n",
      "vaser-skaale-fade                    20803 non-null float64\n",
      "vin                                  20803 non-null float64\n",
      "bias                                 20803 non-null int64\n",
      "dtypes: float64(96), int64(2)\n",
      "memory usage: 15.7 MB\n"
     ]
    }
   ],
   "source": [
    "data_ir.info()"
   ]
  },
  {
   "cell_type": "markdown",
   "metadata": {},
   "source": [
    "### Split the data for Cross validation purposes"
   ]
  },
  {
   "cell_type": "code",
   "execution_count": 23,
   "metadata": {},
   "outputs": [],
   "source": [
    "train, test = train_test_split(data_ir, test_size=0.3, random_state=RANDOM_SEED)"
   ]
  },
  {
   "cell_type": "markdown",
   "metadata": {},
   "source": [
    "We are splliting the data in order to validate the model based on unseen data or test data. We split the data into a training and a test set for now. Keras will independently split the training data into a training and validation set. That means we train the model on the training data, optimize the model weights on the validation data, and finally test the model on the test data. "
   ]
  },
  {
   "cell_type": "markdown",
   "metadata": {},
   "source": [
    "## Creating a Keras NN "
   ]
  },
  {
   "cell_type": "markdown",
   "metadata": {},
   "source": [
    "#### Initlizing the graph"
   ]
  },
  {
   "cell_type": "code",
   "execution_count": 24,
   "metadata": {},
   "outputs": [],
   "source": [
    "graph = Sequential()"
   ]
  },
  {
   "cell_type": "markdown",
   "metadata": {},
   "source": [
    "If you are familiar with tensorflow then you have probably heard the word 'Graph' a few times. Sequential is like initliazing this graph. Its basically like defining something with an empty piece of paper. Its has restrains in the form of edges, but it contains nothing. The graph still doesn't know how many input features we add to it, the structure of the hidden layers or how many dimensions the output layer will have."
   ]
  },
  {
   "cell_type": "markdown",
   "metadata": {},
   "source": [
    "#### Creating a hidden layer "
   ]
  },
  {
   "cell_type": "code",
   "execution_count": 25,
   "metadata": {},
   "outputs": [],
   "source": [
    "# nodesHidden1 = int((len(train.drop('price', axis=1).T) + 1 ))\n",
    "# graph.add(Dense(units=nodesHidden1, kernel_initializer=\"uniform\", \\\n",
    "# #                 kernel_regularizer=regularizers.l2(0.01), \\\n",
    "# #                 activity_regularizer=regularizers.l1(0.01), \\\n",
    "#                 activation='relu', input_shape = (len(train.drop('price', axis=1).T), ))) "
   ]
  },
  {
   "cell_type": "markdown",
   "metadata": {},
   "source": [
    "When we add layers to our graph, then we draw connections between each layer node. These connections are often referred to as weights. When adding a layer we need to define layer dimensions (nodes or neurons), the activation function and what the dimensions of the prior layer is. Play around with the activation function"
   ]
  },
  {
   "cell_type": "markdown",
   "metadata": {},
   "source": [
    "#### Adding dropout to prevet overfitting"
   ]
  },
  {
   "cell_type": "code",
   "execution_count": 26,
   "metadata": {},
   "outputs": [],
   "source": [
    "# drop_rate = 0.25\n",
    "# graph.add(Dropout(drop_rate))"
   ]
  },
  {
   "cell_type": "markdown",
   "metadata": {},
   "source": [
    "Dropout is a way to prevent overfitting. It randomly drops nodes/neurons from the graph, so the graph wont generalize to the training data."
   ]
  },
  {
   "cell_type": "markdown",
   "metadata": {},
   "source": [
    "#### Adding the output layer"
   ]
  },
  {
   "cell_type": "code",
   "execution_count": 27,
   "metadata": {},
   "outputs": [],
   "source": [
    "graph.add(Dense(units=1, kernel_initializer='uniform'))"
   ]
  },
  {
   "cell_type": "markdown",
   "metadata": {},
   "source": [
    "Since we are dealing with a one-dimensiaonal output, which is the case in regression problems, then we only define one output dimension. Had we been dealing with a classification problem we would define the dimensions by number of categories minus 1"
   ]
  },
  {
   "cell_type": "markdown",
   "metadata": {},
   "source": [
    "#### Compiling the graph"
   ]
  },
  {
   "cell_type": "code",
   "execution_count": 28,
   "metadata": {},
   "outputs": [],
   "source": [
    "graph.compile(optimizer='adam', loss='mean_squared_error')"
   ]
  },
  {
   "cell_type": "markdown",
   "metadata": {},
   "source": [
    "Compiling basically tells the graph to close for any new layers, defines the optimizing algorithm and defines the metric in which we want to measure our results. We are using ADAM optimizer, but without defining the parameters of the optimization. But you can play around with this as well."
   ]
  },
  {
   "cell_type": "markdown",
   "metadata": {},
   "source": [
    "#### Using Early stopping"
   ]
  },
  {
   "cell_type": "code",
   "execution_count": 29,
   "metadata": {},
   "outputs": [],
   "source": [
    "earlystop = EarlyStopping(monitor='val_loss', min_delta=0.0001, patience=3, verbose=1, mode='auto')\n",
    "callbacks_list = [earlystop] #never figured out why it needs to be changed to a list"
   ]
  },
  {
   "cell_type": "markdown",
   "metadata": {},
   "source": [
    "We use early stopping because we dont want to keep training our graph whn there are no advantage to gain. The import keyword here is 'patience'. It tells the graph how many times it should train without improving before stopping."
   ]
  },
  {
   "cell_type": "markdown",
   "metadata": {},
   "source": [
    "#### Fitting the model"
   ]
  },
  {
   "cell_type": "markdown",
   "metadata": {},
   "source": [
    "When fitting the model, then it takes the input, the ouput and a the batch (number of rows) that we want to train on at a time. Th epocs are the maximum number of training iterations, and the validion split defines the validation set size. Remember the vcalidation is for measuring improvements during each training iteration. "
   ]
  },
  {
   "cell_type": "code",
   "execution_count": 30,
   "metadata": {},
   "outputs": [
    {
     "name": "stdout",
     "output_type": "stream",
     "text": [
      "Train on 13105 samples, validate on 1457 samples\n",
      "Epoch 1/500\n",
      "13105/13105 [==============================] - 2s 176us/step - loss: 10859460.0737 - val_loss: 8026726.8656\n",
      "Epoch 2/500\n",
      "13105/13105 [==============================] - 1s 40us/step - loss: 6196367.1039 - val_loss: 5054062.7684\n",
      "Epoch 3/500\n",
      "13105/13105 [==============================] - 1s 50us/step - loss: 4287436.2934 - val_loss: 3943447.7142\n",
      "Epoch 4/500\n",
      "13105/13105 [==============================] - 1s 47us/step - loss: 3709408.6323 - val_loss: 3609605.5439\n",
      "Epoch 5/500\n",
      "13105/13105 [==============================] - 1s 42us/step - loss: 3577984.8192 - val_loss: 3524543.9124\n",
      "Epoch 6/500\n",
      "13105/13105 [==============================] - 1s 43us/step - loss: 3557713.0341 - val_loss: 3496448.1464\n",
      "Epoch 7/500\n",
      "13105/13105 [==============================] - 1s 38us/step - loss: 3555646.0337 - val_loss: 3498703.7688\n",
      "Epoch 8/500\n",
      "13105/13105 [==============================] - 1s 45us/step - loss: 3556071.2842 - val_loss: 3493544.5261\n",
      "Epoch 9/500\n",
      "13105/13105 [==============================] - 1s 43us/step - loss: 3555912.5639 - val_loss: 3490929.3594\n",
      "Epoch 10/500\n",
      "13105/13105 [==============================] - 1s 43us/step - loss: 3555143.4082 - val_loss: 3486678.3572\n",
      "Epoch 11/500\n",
      "13105/13105 [==============================] - 1s 46us/step - loss: 3556852.5437 - val_loss: 3486666.1384\n",
      "Epoch 12/500\n",
      "13105/13105 [==============================] - 1s 43us/step - loss: 3555698.4043 - val_loss: 3495661.8804\n",
      "Epoch 13/500\n",
      "13105/13105 [==============================] - 1s 42us/step - loss: 3555518.9278 - val_loss: 3484317.9864\n",
      "Epoch 14/500\n",
      "13105/13105 [==============================] - 1s 46us/step - loss: 3556642.9484 - val_loss: 3495467.1336\n",
      "Epoch 15/500\n",
      "13105/13105 [==============================] - 1s 44us/step - loss: 3556067.9931 - val_loss: 3496184.9402\n",
      "Epoch 16/500\n",
      "13105/13105 [==============================] - 0s 37us/step - loss: 3557084.3568 - val_loss: 3493632.6582\n",
      "Epoch 00016: early stopping\n"
     ]
    }
   ],
   "source": [
    "trainingHist = graph.fit(train.drop('price', axis=1).values, train['price'].values, \\\n",
    "          batch_size=50, epochs=500, callbacks=callbacks_list, validation_split=0.1)   "
   ]
  },
  {
   "cell_type": "code",
   "execution_count": 31,
   "metadata": {},
   "outputs": [],
   "source": [
    "# plot_model(graph, to_file='graph.png', show_shapes=True)\n",
    "# Image('graph.png')"
   ]
  },
  {
   "cell_type": "code",
   "execution_count": 32,
   "metadata": {},
   "outputs": [
    {
     "name": "stdout",
     "output_type": "stream",
     "text": [
      "dict_keys(['val_loss', 'loss'])\n"
     ]
    },
    {
     "data": {
      "image/png": "[encoded data removed]",
      "text/plain": [
       "<Figure size 432x288 with 1 Axes>"
      ]
     },
     "metadata": {
      "needs_background": "light"
     },
     "output_type": "display_data"
    }
   ],
   "source": [
    "print(trainingHist.history.keys())\n",
    "# summarize history for accuracy\n",
    "plt.plot(trainingHist.history['loss'])\n",
    "plt.plot(trainingHist.history['val_loss'])\n",
    "plt.ylabel('accuracy')\n",
    "plt.xlabel('epoch')\n",
    "plt.legend(['train', 'validation'], loc='upper left')\n",
    "plt.show()"
   ]
  },
  {
   "cell_type": "markdown",
   "metadata": {},
   "source": [
    "#### Measuring the performance of the graph"
   ]
  },
  {
   "cell_type": "markdown",
   "metadata": {},
   "source": [
    "Firstly, we calculate the predictions based on the training and test data"
   ]
  },
  {
   "cell_type": "code",
   "execution_count": 33,
   "metadata": {},
   "outputs": [],
   "source": [
    "y_pred_test = graph.predict(test.drop('price', axis=1).values)\n",
    "y_pred_train = graph.predict(train.drop('price', axis=1).values)"
   ]
  },
  {
   "cell_type": "markdown",
   "metadata": {},
   "source": [
    "Secondly, we calculate some scoring statistics. We use root mean squared error and the explained variation (R²)"
   ]
  },
  {
   "cell_type": "code",
   "execution_count": 34,
   "metadata": {},
   "outputs": [],
   "source": [
    "meanPriceArray = np.ones(len(train)) * train['price'].mean()"
   ]
  },
  {
   "cell_type": "code",
   "execution_count": 35,
   "metadata": {},
   "outputs": [],
   "source": [
    "rmseBenchmark = np.sqrt(mean_squared_error(y_true = train['price'].values, y_pred = meanPriceArray))\n",
    "rmseTrain = np.sqrt(mean_squared_error(y_true = train['price'].values, y_pred = y_pred_train))\n",
    "rmseTest = np.sqrt(mean_squared_error(y_true = test['price'].values, y_pred = y_pred_test))"
   ]
  },
  {
   "cell_type": "code",
   "execution_count": 36,
   "metadata": {},
   "outputs": [],
   "source": [
    "accuraciesBenchmark = r2_score(y_true = train['price'].values, y_pred = meanPriceArray)\n",
    "accuraciesTest = r2_score(y_true = test['price'].values, y_pred = y_pred_test)\n",
    "accuraciesTrain = r2_score(y_true = train['price'].values, y_pred = y_pred_train)"
   ]
  },
  {
   "cell_type": "markdown",
   "metadata": {},
   "source": [
    "Thirdly, we print the scores to check performance and the fitting of the graph"
   ]
  },
  {
   "cell_type": "code",
   "execution_count": 37,
   "metadata": {},
   "outputs": [
    {
     "name": "stdout",
     "output_type": "stream",
     "text": [
      "\n",
      "------------------------------------\n",
      "\n",
      "Accuracy benchmark:  0.0\n",
      "\n",
      "RMSE benchmark:  3034.84\n",
      "\n",
      "------------------------------------\n",
      "\n",
      "Accuracy train:  0.61\n",
      "\n",
      "RMSE train:  1883.53\n",
      "\n",
      "------------------------------------\n",
      "\n",
      "Accuracy test:  0.6\n",
      "\n",
      "RMSE test:  1888.89\n",
      "\n",
      "------------------------------------\n"
     ]
    }
   ],
   "source": [
    "print('\\n------------------------------------')\n",
    "print('\\nAccuracy benchmark: ', round(accuraciesBenchmark, 2))\n",
    "print('\\nRMSE benchmark: ', round(rmseBenchmark, 2))\n",
    "print('\\n------------------------------------')\n",
    "print('\\nAccuracy train: ', round(accuraciesTrain,2))\n",
    "print('\\nRMSE train: ', round(rmseTrain, 2))\n",
    "print('\\n------------------------------------')\n",
    "print('\\nAccuracy test: ', round(accuraciesTest, 2))\n",
    "print('\\nRMSE test: ', round(rmseTest, 2))\n",
    "print('\\n------------------------------------')"
   ]
  },
  {
   "cell_type": "markdown",
   "metadata": {},
   "source": [
    "How did we do? And can you improve our results? How would you deal with the overfitting, if any?"
   ]
  },
  {
   "cell_type": "markdown",
   "metadata": {},
   "source": [
    "### Predict from new data"
   ]
  },
  {
   "cell_type": "code",
   "execution_count": 38,
   "metadata": {},
   "outputs": [
    {
     "data": {
      "text/plain": [
       "['aegte-taepper',\n",
       " 'aeldre-billedkunst',\n",
       " 'aeldre-og-antikke-taepper',\n",
       " 'armbaand',\n",
       " 'bad',\n",
       " 'blankvaaben',\n",
       " 'boeger-kort-blade',\n",
       " 'boernemoebler',\n",
       " 'bolig',\n",
       " 'bordlamper',\n",
       " 'bordure',\n",
       " 'braendeovne-pejse',\n",
       " 'brocher',\n",
       " 'bronze-kobber-messing-tin',\n",
       " 'computere-printere-tilbehoer',\n",
       " 'cykler',\n",
       " 'dametoej',\n",
       " 'dameure',\n",
       " 'diamanter-aedelsten',\n",
       " 'drikkeglas',\n",
       " 'etnografica',\n",
       " 'ferielejligheder-sommerhuse',\n",
       " 'figurer',\n",
       " 'frimaerker',\n",
       " 'grafik-og-fotografi',\n",
       " 'gulvlamper',\n",
       " 'halskaeder-vedhaeng',\n",
       " 'have',\n",
       " 'havemoebler',\n",
       " 'herretoej',\n",
       " 'herreure',\n",
       " 'hifi-stereoanlaeg',\n",
       " 'hoejttalere-surround-sound',\n",
       " 'hotel-slot-og-kroophold',\n",
       " 'jagttrofaeer',\n",
       " 'jagtudstyr',\n",
       " 'kameraer-fotoudstyr',\n",
       " 'kelim',\n",
       " 'koekken',\n",
       " 'kontormoebler',\n",
       " 'laenestole',\n",
       " 'legetoej',\n",
       " 'loftslamper',\n",
       " 'lommeure',\n",
       " 'maritime-effekter',\n",
       " 'markiser-solpaneler',\n",
       " 'militaria-og-samlervaaben',\n",
       " 'moderne-billedkunst',\n",
       " 'moderne-taepper',\n",
       " 'moenter-sedler-og-barrer',\n",
       " 'musik-musikinstrumenter',\n",
       " 'oereringe',\n",
       " 'oevrig-billedkunst-og-skulpturer',\n",
       " 'oevrig-elektronik',\n",
       " 'oevrige-glas-porcelaen-og-keramik',\n",
       " 'oevrige-moebler',\n",
       " 'oevrige-smykker',\n",
       " 'oevrigt-soelvtoej',\n",
       " 'oldsager',\n",
       " 'oplevelser-events',\n",
       " 'orientalsk',\n",
       " 'partivarer',\n",
       " 'pelse-skindjakker',\n",
       " 'rav',\n",
       " 'reoler',\n",
       " 'ringe',\n",
       " 'samleobjekter',\n",
       " 'scootere-motorcykler',\n",
       " 'senge-madrasser',\n",
       " 'skabe-kommoder',\n",
       " 'skind-og-laeder',\n",
       " 'sko-stoevler',\n",
       " 'skulpturer',\n",
       " 'skydevaaben',\n",
       " 'smykkesaet',\n",
       " 'soelvbestik',\n",
       " 'soelvlysestager',\n",
       " 'sofaborde-smaaborde',\n",
       " 'sofaer-sofagrupper',\n",
       " 'spejle',\n",
       " 'spiritus',\n",
       " 'spiseborde-spisestuemoebler',\n",
       " 'spisestel-kaffestel',\n",
       " 'sportsudstyr-bordspil',\n",
       " 'standure',\n",
       " 'stole',\n",
       " 'tasker-accessories',\n",
       " 'tegninger',\n",
       " 'tv-fladskaerme-projektorer',\n",
       " 'udendoerslamper',\n",
       " 'vaeglamper',\n",
       " 'vaegure',\n",
       " 'vaerktoej-byggematerialer',\n",
       " 'vaser-skaale-fade',\n",
       " 'vin',\n",
       " 'bias']"
      ]
     },
     "execution_count": 38,
     "metadata": {},
     "output_type": "execute_result"
    }
   ],
   "source": [
    "list(data_ir.drop(['price', 'valuation'], axis=1).columns)"
   ]
  },
  {
   "cell_type": "code",
   "execution_count": null,
   "metadata": {},
   "outputs": [],
   "source": [
    "newData = [5000, 'ringe']"
   ]
  },
  {
   "cell_type": "code",
   "execution_count": null,
   "metadata": {},
   "outputs": [],
   "source": [
    "def predictNew(graph, newData, testdata):\n",
    "    testdata = testdata.drop('price', axis=1)\n",
    "    datarow = testdata.iloc[-2:, :]\n",
    "    datarow.loc[:] = 0\n",
    "    datarow['valuation'] = newData[0]\n",
    "    for col in test.columns:\n",
    "        if newData[1] == col:\n",
    "            datarow[col] = 1\n",
    "    return round(graph.predict(datarow.values)[0].item(), 2)\n",
    "    \n",
    "    "
   ]
  },
  {
   "cell_type": "code",
   "execution_count": null,
   "metadata": {},
   "outputs": [],
   "source": [
    "predictNew(graph, newData, test)"
   ]
  },
  {
   "cell_type": "code",
   "execution_count": null,
   "metadata": {},
   "outputs": [],
   "source": []
  },
  {
   "cell_type": "code",
   "execution_count": null,
   "metadata": {},
   "outputs": [],
   "source": []
  }
 ],
 "metadata": {
  "anaconda-cloud": {},
  "kernelspec": {
   "display_name": "TF-Workshop",
   "language": "python",
   "name": "tf-workshop"
  },
  "language_info": {
   "codemirror_mode": {
    "name": "ipython",
    "version": 3
   },
   "file_extension": ".py",
   "mimetype": "text/x-python",
   "name": "python",
   "nbconvert_exporter": "python",
   "pygments_lexer": "ipython3",
   "version": "3.6.5"
  }
 },
 "nbformat": 4,
 "nbformat_minor": 2
}
